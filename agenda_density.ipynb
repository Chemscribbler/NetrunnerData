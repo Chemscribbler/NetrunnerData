{
 "cells": [
  {
   "cell_type": "code",
   "execution_count": 23,
   "metadata": {},
   "outputs": [
    {
     "data": {
      "text/plain": [
       "16.785243"
      ]
     },
     "execution_count": 23,
     "metadata": {},
     "output_type": "execute_result"
    }
   ],
   "source": [
    "from random import shuffle\n",
    "from numpy import mean\n",
    "\n",
    "forty_four_eight = [3]*2 + [2]*6 + [0]*(44-8)\n",
    "shuffle(forty_four_eight)\n",
    "\n",
    "\n",
    "def needed_accesses(decklist: list) -> int:\n",
    "    total = 0\n",
    "    for i, value in enumerate(decklist):\n",
    "        total += value\n",
    "        if total >= 7:\n",
    "            return i+1 # To account for zero indexing\n",
    "\n",
    "def sim_accesses(decklist: list, num_sims=1_000_000) -> float:\n",
    "    results_list = []\n",
    "    for _ in range(num_sims):\n",
    "        shuffle(decklist)\n",
    "        results_list.append(needed_accesses(decklist))\n",
    "    return mean(results_list)\n",
    "\n",
    "sim_accesses(forty_four_eight)"
   ]
  }
 ],
 "metadata": {
  "kernelspec": {
   "display_name": "netrunner_data",
   "language": "python",
   "name": "python3"
  },
  "language_info": {
   "codemirror_mode": {
    "name": "ipython",
    "version": 3
   },
   "file_extension": ".py",
   "mimetype": "text/x-python",
   "name": "python",
   "nbconvert_exporter": "python",
   "pygments_lexer": "ipython3",
   "version": "3.11.0"
  },
  "orig_nbformat": 4
 },
 "nbformat": 4,
 "nbformat_minor": 2
}
